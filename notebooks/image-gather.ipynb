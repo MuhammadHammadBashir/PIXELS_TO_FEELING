{
 "cells": [
  {
   "cell_type": "markdown",
   "metadata": {
    "Collapsed": "false"
   },
   "source": [
    "---"
   ]
  },
  {
   "cell_type": "code",
   "execution_count": 11,
   "metadata": {
    "Collapsed": "false"
   },
   "outputs": [
    {
     "name": "stdout",
     "output_type": "stream",
     "text": [
      "The autoreload extension is already loaded. To reload it, use:\n",
      "  %reload_ext autoreload\n"
     ]
    }
   ],
   "source": [
    "%load_ext autoreload\n",
    "%autoreload 2"
   ]
  },
  {
   "cell_type": "code",
   "execution_count": 14,
   "metadata": {
    "Collapsed": "false"
   },
   "outputs": [],
   "source": [
    "import sys\n",
    "sys.path.append(sys.path[0].replace('notebooks', 'src'))\n",
    "\n",
    "import image_gathering.gather_utils as g"
   ]
  },
  {
   "cell_type": "markdown",
   "metadata": {
    "Collapsed": "false"
   },
   "source": [
    "---"
   ]
  },
  {
   "cell_type": "markdown",
   "metadata": {
    "Collapsed": "false"
   },
   "source": [
    "The WEBEmo images are not aggregated and able to be downloaded directly -- rather, they are retrieved from URLs. This notebook has 2 purposes:\n",
    "1. Format the WEBEmo txt files to make things easier when modeling\n",
    "2. Gather the ~268,000 images\n",
    "<br>\n",
    "\n",
    "With the ```pool_image_retrieval()``` function, I utilize multi-threading to substantially boost image retrieval times. The dataset is far too bulky for upload, but one can use this notebook for efficient retrieval if so desired."
   ]
  },
  {
   "cell_type": "code",
   "execution_count": 17,
   "metadata": {
    "Collapsed": "false"
   },
   "outputs": [],
   "source": [
    "train, test = g.load_data()"
   ]
  },
  {
   "cell_type": "markdown",
   "metadata": {
    "Collapsed": "false"
   },
   "source": [
    "<br>\n",
    "\n",
    "This is the ```train25.txt``` file with a bit of pre-processing. ```Label``` corresponds to the level-3 label, so I'll still need to add in level-2 and level-1."
   ]
  },
  {
   "cell_type": "code",
   "execution_count": 20,
   "metadata": {
    "Collapsed": "false"
   },
   "outputs": [
    {
     "data": {
      "text/html": [
       "<div>\n",
       "<style scoped>\n",
       "    .dataframe tbody tr th:only-of-type {\n",
       "        vertical-align: middle;\n",
       "    }\n",
       "\n",
       "    .dataframe tbody tr th {\n",
       "        vertical-align: top;\n",
       "    }\n",
       "\n",
       "    .dataframe thead th {\n",
       "        text-align: right;\n",
       "    }\n",
       "</style>\n",
       "<table border=\"1\" class=\"dataframe\">\n",
       "  <thead>\n",
       "    <tr style=\"text-align: right;\">\n",
       "      <th></th>\n",
       "      <th>url</th>\n",
       "      <th>label</th>\n",
       "      <th>file_label</th>\n",
       "      <th>root_dir</th>\n",
       "    </tr>\n",
       "  </thead>\n",
       "  <tbody>\n",
       "    <tr>\n",
       "      <th>53484</th>\n",
       "      <td>https://as2.ftcdn.net/jpg/00/99/79/85/220_F_99...</td>\n",
       "      <td>22</td>\n",
       "      <td>22_220_F_99798598_bwF4ETQADdHRteO1MphoBR2DND7q...</td>\n",
       "      <td>../data/images/test</td>\n",
       "    </tr>\n",
       "    <tr>\n",
       "      <th>53485</th>\n",
       "      <td>https://as2.ftcdn.net/jpg/00/99/80/94/220_F_99...</td>\n",
       "      <td>22</td>\n",
       "      <td>22_220_F_99809473_mMugByPEL4a4U61RoKRmMlSTmWLf...</td>\n",
       "      <td>../data/images/test</td>\n",
       "    </tr>\n",
       "    <tr>\n",
       "      <th>53486</th>\n",
       "      <td>https://as2.ftcdn.net/jpg/00/99/81/88/220_F_99...</td>\n",
       "      <td>22</td>\n",
       "      <td>22_220_F_99818868_R7OBPJE94qrLjLG3rVs6IDOes362...</td>\n",
       "      <td>../data/images/test</td>\n",
       "    </tr>\n",
       "    <tr>\n",
       "      <th>53487</th>\n",
       "      <td>https://as2.ftcdn.net/jpg/00/99/83/49/220_F_99...</td>\n",
       "      <td>22</td>\n",
       "      <td>22_220_F_99834902_stGr0BK7Lm1Dl6bCXuLDNIL8iN6u...</td>\n",
       "      <td>../data/images/test</td>\n",
       "    </tr>\n",
       "    <tr>\n",
       "      <th>53488</th>\n",
       "      <td>https://as2.ftcdn.net/jpg/00/99/97/01/220_F_99...</td>\n",
       "      <td>22</td>\n",
       "      <td>22_220_F_99970154_7i0Iikak3zjIhchT6Bo43lrtnGOA...</td>\n",
       "      <td>../data/images/test</td>\n",
       "    </tr>\n",
       "  </tbody>\n",
       "</table>\n",
       "</div>"
      ],
      "text/plain": [
       "                                                     url  label  \\\n",
       "53484  https://as2.ftcdn.net/jpg/00/99/79/85/220_F_99...     22   \n",
       "53485  https://as2.ftcdn.net/jpg/00/99/80/94/220_F_99...     22   \n",
       "53486  https://as2.ftcdn.net/jpg/00/99/81/88/220_F_99...     22   \n",
       "53487  https://as2.ftcdn.net/jpg/00/99/83/49/220_F_99...     22   \n",
       "53488  https://as2.ftcdn.net/jpg/00/99/97/01/220_F_99...     22   \n",
       "\n",
       "                                              file_label             root_dir  \n",
       "53484  22_220_F_99798598_bwF4ETQADdHRteO1MphoBR2DND7q...  ../data/images/test  \n",
       "53485  22_220_F_99809473_mMugByPEL4a4U61RoKRmMlSTmWLf...  ../data/images/test  \n",
       "53486  22_220_F_99818868_R7OBPJE94qrLjLG3rVs6IDOes362...  ../data/images/test  \n",
       "53487  22_220_F_99834902_stGr0BK7Lm1Dl6bCXuLDNIL8iN6u...  ../data/images/test  \n",
       "53488  22_220_F_99970154_7i0Iikak3zjIhchT6Bo43lrtnGOA...  ../data/images/test  "
      ]
     },
     "execution_count": 20,
     "metadata": {},
     "output_type": "execute_result"
    }
   ],
   "source": [
    "test.tail()"
   ]
  },
  {
   "cell_type": "markdown",
   "metadata": {
    "Collapsed": "false"
   },
   "source": [
    "<br>\n",
    "Before doing any more processing, I download all of the images.\n",
    "\n",
    "**WARNING: uncommenting and running this will begin downloading ~268,000 images locally.**"
   ]
  },
  {
   "cell_type": "code",
   "execution_count": 21,
   "metadata": {
    "Collapsed": "false"
   },
   "outputs": [
    {
     "ename": "NameError",
     "evalue": "name 'pool_image_retrieval' is not defined",
     "output_type": "error",
     "traceback": [
      "\u001b[1;31m---------------------------------------------------------------------------\u001b[0m",
      "\u001b[1;31mNameError\u001b[0m                                 Traceback (most recent call last)",
      "Cell \u001b[1;32mIn[21], line 1\u001b[0m\n\u001b[1;32m----> 1\u001b[0m pool_image_retrieval(train_df)\n",
      "\u001b[1;31mNameError\u001b[0m: name 'pool_image_retrieval' is not defined"
     ]
    }
   ],
   "source": [
    "pool_image_retrieval(train_df)\n",
    "# pool_image_retrieval(test_df)"
   ]
  },
  {
   "cell_type": "markdown",
   "metadata": {
    "Collapsed": "false"
   },
   "source": [
    "<br>\n",
    "With that done, I tidy up the dataframes, dropping unnecessary columns and adding in the level-1 and level-2 labels."
   ]
  },
  {
   "cell_type": "code",
   "execution_count": 6,
   "metadata": {
    "Collapsed": "false"
   },
   "outputs": [],
   "source": [
    "lvl_one_map, lvl_two_map = g.label_dicts()\n",
    "train = train.rename(columns={'label': 'lvl_three'}) \\\n",
    "             .drop(['url', 'root_dir'], axis=1) \\\n",
    "             [['file_label', 'lvl_three']]\n",
    "test = test.rename(columns={'label': 'lvl_three'}) \\\n",
    "           .drop(['url', 'root_dir'], axis=1) \\\n",
    "           [['file_label', 'lvl_three']]"
   ]
  },
  {
   "cell_type": "code",
   "execution_count": 7,
   "metadata": {
    "Collapsed": "false"
   },
   "outputs": [],
   "source": [
    "train, test = g.retrieve_labels(train, test, lvl_one_map, lvl_two_map)"
   ]
  },
  {
   "cell_type": "code",
   "execution_count": 8,
   "metadata": {
    "Collapsed": "false"
   },
   "outputs": [
    {
     "data": {
      "text/html": [
       "<div>\n",
       "<style scoped>\n",
       "    .dataframe tbody tr th:only-of-type {\n",
       "        vertical-align: middle;\n",
       "    }\n",
       "\n",
       "    .dataframe tbody tr th {\n",
       "        vertical-align: top;\n",
       "    }\n",
       "\n",
       "    .dataframe thead th {\n",
       "        text-align: right;\n",
       "    }\n",
       "</style>\n",
       "<table border=\"1\" class=\"dataframe\">\n",
       "  <thead>\n",
       "    <tr style=\"text-align: right;\">\n",
       "      <th></th>\n",
       "      <th>file_label</th>\n",
       "      <th>lvl_three</th>\n",
       "      <th>lvl_one</th>\n",
       "      <th>lvl_two</th>\n",
       "    </tr>\n",
       "  </thead>\n",
       "  <tbody>\n",
       "    <tr>\n",
       "      <th>0</th>\n",
       "      <td>5_220_F_100051346_fMXwB7fetIoecIVpiIO4fKXLi3ub...</td>\n",
       "      <td>5</td>\n",
       "      <td>0</td>\n",
       "      <td>0</td>\n",
       "    </tr>\n",
       "    <tr>\n",
       "      <th>1</th>\n",
       "      <td>5_220_F_100051362_ApZcxuHV3WPYhnjFhTgllWLGkimv...</td>\n",
       "      <td>5</td>\n",
       "      <td>0</td>\n",
       "      <td>0</td>\n",
       "    </tr>\n",
       "    <tr>\n",
       "      <th>2</th>\n",
       "      <td>5_220_F_100051376_xO657hrup4y1lXxV2IBAdfyjSR4p...</td>\n",
       "      <td>5</td>\n",
       "      <td>0</td>\n",
       "      <td>0</td>\n",
       "    </tr>\n",
       "    <tr>\n",
       "      <th>3</th>\n",
       "      <td>5_220_F_100051390_pifF64bRGPv50H2wsjPOXVPMfWVR...</td>\n",
       "      <td>5</td>\n",
       "      <td>0</td>\n",
       "      <td>0</td>\n",
       "    </tr>\n",
       "    <tr>\n",
       "      <th>4</th>\n",
       "      <td>5_220_F_100051405_J3UxGKqrsgHutsqwsHUGmC5b5AyH...</td>\n",
       "      <td>5</td>\n",
       "      <td>0</td>\n",
       "      <td>0</td>\n",
       "    </tr>\n",
       "  </tbody>\n",
       "</table>\n",
       "</div>"
      ],
      "text/plain": [
       "                                          file_label  lvl_three  lvl_one  \\\n",
       "0  5_220_F_100051346_fMXwB7fetIoecIVpiIO4fKXLi3ub...          5        0   \n",
       "1  5_220_F_100051362_ApZcxuHV3WPYhnjFhTgllWLGkimv...          5        0   \n",
       "2  5_220_F_100051376_xO657hrup4y1lXxV2IBAdfyjSR4p...          5        0   \n",
       "3  5_220_F_100051390_pifF64bRGPv50H2wsjPOXVPMfWVR...          5        0   \n",
       "4  5_220_F_100051405_J3UxGKqrsgHutsqwsHUGmC5b5AyH...          5        0   \n",
       "\n",
       "   lvl_two  \n",
       "0        0  \n",
       "1        0  \n",
       "2        0  \n",
       "3        0  \n",
       "4        0  "
      ]
     },
     "execution_count": 8,
     "metadata": {},
     "output_type": "execute_result"
    }
   ],
   "source": [
    "train.head()"
   ]
  },
  {
   "cell_type": "code",
   "execution_count": 123,
   "metadata": {
    "Collapsed": "false"
   },
   "outputs": [],
   "source": [
    "# train_df.to_csv('../data/csvs/train.csv')\n",
    "# test_df.to_csv('../data/csvs/test.csv')"
   ]
  }
 ],
 "metadata": {
  "kernelspec": {
   "display_name": "base",
   "language": "python",
   "name": "python3"
  },
  "language_info": {
   "codemirror_mode": {
    "name": "ipython",
    "version": 3
   },
   "file_extension": ".py",
   "mimetype": "text/x-python",
   "name": "python",
   "nbconvert_exporter": "python",
   "pygments_lexer": "ipython3",
   "version": "3.11.4"
  }
 },
 "nbformat": 4,
 "nbformat_minor": 4
}
